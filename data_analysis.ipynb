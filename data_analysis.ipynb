{
 "cells": [
  {
   "cell_type": "code",
   "execution_count": 2,
   "metadata": {},
   "outputs": [],
   "source": [
    "import pandas as pd\n",
    "import numpy as np"
   ]
  },
  {
   "cell_type": "code",
   "execution_count": 3,
   "metadata": {},
   "outputs": [],
   "source": [
    "file_name = \"./data/southern_grid_cleaned_0001_2.csv\""
   ]
  },
  {
   "cell_type": "code",
   "execution_count": 4,
   "metadata": {},
   "outputs": [
    {
     "data": {
      "text/html": [
       "<div>\n",
       "<style scoped>\n",
       "    .dataframe tbody tr th:only-of-type {\n",
       "        vertical-align: middle;\n",
       "    }\n",
       "\n",
       "    .dataframe tbody tr th {\n",
       "        vertical-align: top;\n",
       "    }\n",
       "\n",
       "    .dataframe thead th {\n",
       "        text-align: right;\n",
       "    }\n",
       "</style>\n",
       "<table border=\"1\" class=\"dataframe\">\n",
       "  <thead>\n",
       "    <tr style=\"text-align: right;\">\n",
       "      <th></th>\n",
       "      <th>dtEventTime</th>\n",
       "      <th>metric</th>\n",
       "      <th>value</th>\n",
       "      <th>host</th>\n",
       "      <th>port</th>\n",
       "      <th>name</th>\n",
       "      <th>server</th>\n",
       "    </tr>\n",
       "  </thead>\n",
       "  <tbody>\n",
       "    <tr>\n",
       "      <td>0</td>\n",
       "      <td>2019-08-05 05:49:57</td>\n",
       "      <td>weblogic.application.HealthState</td>\n",
       "      <td>0.0</td>\n",
       "      <td>yxgl-java05</td>\n",
       "      <td>10016</td>\n",
       "      <td>YXGLDB1</td>\n",
       "      <td>mk_ejb5_10</td>\n",
       "    </tr>\n",
       "    <tr>\n",
       "      <td>1</td>\n",
       "      <td>2019-08-05 22:27:01</td>\n",
       "      <td>weblogic.application.HealthState</td>\n",
       "      <td>0.0</td>\n",
       "      <td>yxgl-java05</td>\n",
       "      <td>10016</td>\n",
       "      <td>YXGLDB1</td>\n",
       "      <td>mk_ejb5_10</td>\n",
       "    </tr>\n",
       "    <tr>\n",
       "      <td>2</td>\n",
       "      <td>2019-08-04 02:29:22</td>\n",
       "      <td>weblogic.application.HealthState</td>\n",
       "      <td>0.0</td>\n",
       "      <td>yxgl-java05</td>\n",
       "      <td>10016</td>\n",
       "      <td>YXGLDB1</td>\n",
       "      <td>mk_ejb5_10</td>\n",
       "    </tr>\n",
       "    <tr>\n",
       "      <td>3</td>\n",
       "      <td>2019-08-05 09:52:01</td>\n",
       "      <td>weblogic.application.HealthState</td>\n",
       "      <td>0.0</td>\n",
       "      <td>yxgl-java05</td>\n",
       "      <td>10016</td>\n",
       "      <td>YXGLDB1</td>\n",
       "      <td>mk_ejb5_10</td>\n",
       "    </tr>\n",
       "    <tr>\n",
       "      <td>4</td>\n",
       "      <td>2019-08-05 22:08:39</td>\n",
       "      <td>weblogic.application.HealthState</td>\n",
       "      <td>0.0</td>\n",
       "      <td>yxgl-java05</td>\n",
       "      <td>10016</td>\n",
       "      <td>YXGLDB1</td>\n",
       "      <td>mk_ejb5_10</td>\n",
       "    </tr>\n",
       "  </tbody>\n",
       "</table>\n",
       "</div>"
      ],
      "text/plain": [
       "           dtEventTime                            metric  value         host  \\\n",
       "0  2019-08-05 05:49:57  weblogic.application.HealthState    0.0  yxgl-java05   \n",
       "1  2019-08-05 22:27:01  weblogic.application.HealthState    0.0  yxgl-java05   \n",
       "2  2019-08-04 02:29:22  weblogic.application.HealthState    0.0  yxgl-java05   \n",
       "3  2019-08-05 09:52:01  weblogic.application.HealthState    0.0  yxgl-java05   \n",
       "4  2019-08-05 22:08:39  weblogic.application.HealthState    0.0  yxgl-java05   \n",
       "\n",
       "    port     name      server  \n",
       "0  10016  YXGLDB1  mk_ejb5_10  \n",
       "1  10016  YXGLDB1  mk_ejb5_10  \n",
       "2  10016  YXGLDB1  mk_ejb5_10  \n",
       "3  10016  YXGLDB1  mk_ejb5_10  \n",
       "4  10016  YXGLDB1  mk_ejb5_10  "
      ]
     },
     "execution_count": 4,
     "metadata": {},
     "output_type": "execute_result"
    }
   ],
   "source": [
    "aa = pd.read_csv(file_name, nrows=10)\n",
    "aa.head()"
   ]
  },
  {
   "cell_type": "code",
   "execution_count": 25,
   "metadata": {},
   "outputs": [],
   "source": [
    "?pd.read_csv"
   ]
  },
  {
   "cell_type": "code",
   "execution_count": 1,
   "metadata": {},
   "outputs": [
    {
     "ename": "NameError",
     "evalue": "name 'pd' is not defined",
     "output_type": "error",
     "traceback": [
      "\u001b[0;31m---------------------------------------------------------------------------\u001b[0m",
      "\u001b[0;31mNameError\u001b[0m                                 Traceback (most recent call last)",
      "\u001b[0;32m<ipython-input-1-5ac9723773b0>\u001b[0m in \u001b[0;36m<module>\u001b[0;34m\u001b[0m\n\u001b[0;32m----> 1\u001b[0;31m \u001b[0mdt_\u001b[0m \u001b[0;34m=\u001b[0m \u001b[0mpd\u001b[0m\u001b[0;34m.\u001b[0m\u001b[0mread_csv\u001b[0m\u001b[0;34m(\u001b[0m\u001b[0mfile_name\u001b[0m\u001b[0;34m,\u001b[0m\u001b[0musecols\u001b[0m\u001b[0;34m=\u001b[0m\u001b[0;34m[\u001b[0m\u001b[0;34m\"dtEventTime\"\u001b[0m\u001b[0;34m]\u001b[0m\u001b[0;34m)\u001b[0m\u001b[0;34m\u001b[0m\u001b[0m\n\u001b[0m\u001b[1;32m      2\u001b[0m \u001b[0mdt_\u001b[0m\u001b[0;34m.\u001b[0m\u001b[0mmin\u001b[0m\u001b[0;34m(\u001b[0m\u001b[0;34m)\u001b[0m\u001b[0;34m,\u001b[0m\u001b[0mdt_\u001b[0m\u001b[0;34m.\u001b[0m\u001b[0mmax\u001b[0m\u001b[0;34m(\u001b[0m\u001b[0;34m)\u001b[0m\u001b[0;34m\u001b[0m\u001b[0m\n",
      "\u001b[0;31mNameError\u001b[0m: name 'pd' is not defined"
     ]
    }
   ],
   "source": [
    "dt_ = pd.read_csv(file_name,usecols=[\"dtEventTime\"])\n",
    "dt_.min(),dt_.max()"
   ]
  },
  {
   "cell_type": "code",
   "execution_count": 34,
   "metadata": {},
   "outputs": [
    {
     "name": "stdout",
     "output_type": "stream",
     "text": [
      "['weblogic.application.HealthState'\n",
      " 'weblogic.connector.service.ActiveRACount'\n",
      " 'weblogic.connector.service.ConnectionPoolCurrentCount'\n",
      " 'weblogic.connector.service.ConnectionPoolsTotalCount'\n",
      " 'weblogic.connector.service.RACount'\n",
      " 'weblogic.datasource.ActiveConnectionsCurrentCount'\n",
      " 'weblogic.datasource.ConnectionsTotalCount'\n",
      " 'weblogic.datasource.CurrCapacity']\n"
     ]
    }
   ],
   "source": [
    "metric = pd.read_csv(file_name,usecols=[\"metric\"])\n",
    "print(np.unique(metric.values))"
   ]
  },
  {
   "cell_type": "code",
   "execution_count": 6,
   "metadata": {},
   "outputs": [
    {
     "name": "stdout",
     "output_type": "stream",
     "text": [
      "['yxgl-java01' 'yxgl-java02' 'yxgl-java03' 'yxgl-java04' 'yxgl-java05']\n"
     ]
    }
   ],
   "source": [
    "host_ = pd.read_csv(file_name,usecols=[\"host\"])\n",
    "print(np.unique(host_.values))"
   ]
  },
  {
   "cell_type": "code",
   "execution_count": 43,
   "metadata": {},
   "outputs": [
    {
     "data": {
      "text/plain": [
       "(array([11028887,    72388,    34522,    23165,    68611,    59679,\n",
       "           29103,    24433,    10381,  1953285]),\n",
       " array([ 0. ,  2.7,  5.4,  8.1, 10.8, 13.5, 16.2, 18.9, 21.6, 24.3, 27. ]))"
      ]
     },
     "execution_count": 43,
     "metadata": {},
     "output_type": "execute_result"
    }
   ],
   "source": [
    "value = pd.read_csv(file_name,usecols=[\"value\"])\n",
    "# value_list = np.unique(value.values)\n",
    "(value.values)"
   ]
  },
  {
   "cell_type": "code",
   "execution_count": 7,
   "metadata": {},
   "outputs": [
    {
     "name": "stdout",
     "output_type": "stream",
     "text": [
      "[10001 10002 10003 10004 10005 10006 10007 10008 10009 10010 10011 10012\n",
      " 10013 10014 10015 10016 10017 10018]\n"
     ]
    }
   ],
   "source": [
    "port = pd.read_csv(file_name,usecols=[\"port\"])\n",
    "print(np.unique(port.values))"
   ]
  },
  {
   "cell_type": "code",
   "execution_count": 8,
   "metadata": {},
   "outputs": [
    {
     "name": "stdout",
     "output_type": "stream",
     "text": [
      "['ConnectorService' 'MK_GL_DS' 'PMS_EAR' 'YXGLDB' 'YXGLDB1' 'YXGLDB2'\n",
      " 'YXLSDB' 'YXLSDB1' 'YXLSDB2' 'YXSCDB' 'bea_wls_cluster_internal'\n",
      " 'bea_wls_deployment_internal' 'bea_wls_internal'\n",
      " 'bea_wls_management_internal2'\n",
      " 'com.oracle.webservices.wls.bea-wls9-async-response_12.1.3' 'consoleapp'\n",
      " 'mejb' 'workflow']\n"
     ]
    }
   ],
   "source": [
    "name = pd.read_csv(file_name,usecols=[\"name\"])\n",
    "print(np.unique(name.values))"
   ]
  },
  {
   "cell_type": "code",
   "execution_count": 9,
   "metadata": {
    "scrolled": true
   },
   "outputs": [
    {
     "name": "stdout",
     "output_type": "stream",
     "text": [
      "['ejb1AdminServer' 'ejb2AdminServer' 'ejb3AdminServer' 'ejb4AdminServer'\n",
      " 'mk_ejb1_1' 'mk_ejb1_10' 'mk_ejb1_11' 'mk_ejb1_12' 'mk_ejb1_14'\n",
      " 'mk_ejb1_15' 'mk_ejb1_2' 'mk_ejb1_3' 'mk_ejb1_4' 'mk_ejb1_5' 'mk_ejb1_8'\n",
      " 'mk_ejb2_10' 'mk_ejb2_11' 'mk_ejb2_12' 'mk_ejb2_13' 'mk_ejb2_14'\n",
      " 'mk_ejb2_15' 'mk_ejb2_16' 'mk_ejb2__1' 'mk_ejb2__2' 'mk_ejb2__3'\n",
      " 'mk_ejb2__4' 'mk_ejb2__5' 'mk_ejb2__6' 'mk_ejb2__7' 'mk_ejb2__8'\n",
      " 'mk_ejb2__9' 'mk_ejb3_10' 'mk_ejb3_11' 'mk_ejb3_12' 'mk_ejb3_13'\n",
      " 'mk_ejb3_14' 'mk_ejb3_15' 'mk_ejb3_16' 'mk_ejb3__1' 'mk_ejb3__2'\n",
      " 'mk_ejb3__3' 'mk_ejb3__4' 'mk_ejb3__5' 'mk_ejb3__6' 'mk_ejb3__7'\n",
      " 'mk_ejb3__8' 'mk_ejb3__9' 'mk_ejb4_10' 'mk_ejb4_13' 'mk_ejb4_14'\n",
      " 'mk_ejb4__1' 'mk_ejb4__2' 'mk_ejb4__5' 'mk_ejb4__6' 'mk_ejb4__9'\n",
      " 'mk_ejb5_10' 'mk_ejb5_13' 'mk_ejb5_14' 'mk_ejb5_2' 'mk_ejb5_5'\n",
      " 'mk_ejb5_6' 'mk_ejb5_9']\n"
     ]
    }
   ],
   "source": [
    "server = pd.read_csv(file_name,usecols=[\"server\"])\n",
    "print(np.unique(server.values))"
   ]
  },
  {
   "cell_type": "code",
   "execution_count": 28,
   "metadata": {},
   "outputs": [
    {
     "data": {
      "text/plain": [
       "(13304454,)"
      ]
     },
     "execution_count": 28,
     "metadata": {},
     "output_type": "execute_result"
    }
   ],
   "source": [
    "dt_arr = np.array(dt_.values, dtype=str).flatten()\n",
    "dt_arr.shape"
   ]
  },
  {
   "cell_type": "code",
   "execution_count": 29,
   "metadata": {},
   "outputs": [],
   "source": [
    "import time\n",
    "def get_ts(ts_str):\n",
    "    return int(time.mktime(time.strptime(ts_str, \"%Y-%m-%d %H:%M:%S\")))"
   ]
  },
  {
   "cell_type": "code",
   "execution_count": 32,
   "metadata": {},
   "outputs": [],
   "source": [
    "batch_size = 100000\n",
    "n_batch = 134\n",
    "total_size = 13304454\n",
    "res_list = []\n",
    "for i in range(n_batch):\n",
    "#     print(\"batch%s\"%i)\n",
    "    start_ind = i * batch_size\n",
    "    end_ind = min((i+ 1)*batch_size,total_size)\n",
    "    aa = [get_ts(i) for i in dt_arr[start_ind: end_ind]]\n",
    "    res_list += aa"
   ]
  },
  {
   "cell_type": "code",
   "execution_count": 7,
   "metadata": {},
   "outputs": [],
   "source": [
    "from commons.date_ import get_timestamp\n",
    "dt0 = dt_[\"dtEventTime\"].map(get_timestamp)"
   ]
  },
  {
   "cell_type": "code",
   "execution_count": 8,
   "metadata": {},
   "outputs": [
    {
     "data": {
      "text/plain": [
       "0        1564955397\n",
       "1        1565015221\n",
       "2        1564856962\n",
       "3        1564969921\n",
       "4        1565014119\n",
       "            ...    \n",
       "99995    1564929602\n",
       "99996    1564956804\n",
       "99997    1564865716\n",
       "99998    1564919340\n",
       "99999    1564885998\n",
       "Name: dtEventTime, Length: 100000, dtype: int64"
      ]
     },
     "execution_count": 8,
     "metadata": {},
     "output_type": "execute_result"
    }
   ],
   "source": [
    "dt0"
   ]
  },
  {
   "cell_type": "code",
   "execution_count": 35,
   "metadata": {},
   "outputs": [
    {
     "ename": "ValueError",
     "evalue": "could not convert string to float: 'weblogic.application.HealthState'",
     "output_type": "error",
     "traceback": [
      "\u001b[0;31m---------------------------------------------------------------------------\u001b[0m",
      "\u001b[0;31mValueError\u001b[0m                                Traceback (most recent call last)",
      "\u001b[0;32m<ipython-input-35-977d36f2886c>\u001b[0m in \u001b[0;36m<module>\u001b[0;34m\u001b[0m\n\u001b[0;32m----> 1\u001b[0;31m \u001b[0mmetric_arr\u001b[0m \u001b[0;34m=\u001b[0m \u001b[0mnp\u001b[0m\u001b[0;34m.\u001b[0m\u001b[0marray\u001b[0m\u001b[0;34m(\u001b[0m\u001b[0mmetric\u001b[0m\u001b[0;34m,\u001b[0m \u001b[0mdtype\u001b[0m\u001b[0;34m=\u001b[0m\u001b[0mfloat\u001b[0m\u001b[0;34m)\u001b[0m\u001b[0;34m.\u001b[0m\u001b[0mflatten\u001b[0m\u001b[0;34m(\u001b[0m\u001b[0;34m)\u001b[0m\u001b[0;34m\u001b[0m\u001b[0m\n\u001b[0m",
      "\u001b[0;31mValueError\u001b[0m: could not convert string to float: 'weblogic.application.HealthState'"
     ]
    }
   ],
   "source": [
    "metric_arr = np.array(metric, dtype=float).flatten()"
   ]
  },
  {
   "cell_type": "code",
   "execution_count": null,
   "metadata": {},
   "outputs": [],
   "source": []
  }
 ],
 "metadata": {
  "kernelspec": {
   "display_name": "Python 3",
   "language": "python",
   "name": "python3"
  },
  "language_info": {
   "codemirror_mode": {
    "name": "ipython",
    "version": 3
   },
   "file_extension": ".py",
   "mimetype": "text/x-python",
   "name": "python",
   "nbconvert_exporter": "python",
   "pygments_lexer": "ipython3",
   "version": "3.7.0"
  }
 },
 "nbformat": 4,
 "nbformat_minor": 2
}
