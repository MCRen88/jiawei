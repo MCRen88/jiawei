{
 "cells": [
  {
   "cell_type": "code",
   "execution_count": 1,
   "metadata": {},
   "outputs": [],
   "source": [
    "train_path  = \"./tmp/concat_train.csv\"\n",
    "test_path = \"./tmp/concat_test.csv\""
   ]
  },
  {
   "cell_type": "code",
   "execution_count": 25,
   "metadata": {},
   "outputs": [],
   "source": [
    "from sklearn.metrics import precision_recall_curve,classification_report, confusion_matrix\n",
    "import pandas as pd\n",
    "import matplotlib.pyplot as plt\n",
    "import numpy as np"
   ]
  },
  {
   "cell_type": "code",
   "execution_count": 4,
   "metadata": {},
   "outputs": [],
   "source": [
    "train_df = pd.read_csv(train_path)\n",
    "test_df = pd.read_csv(test_path)"
   ]
  },
  {
   "cell_type": "code",
   "execution_count": 13,
   "metadata": {},
   "outputs": [
    {
     "data": {
      "text/plain": [
       "array([1.39214211e-04, 1.43044538e-04, 1.45606474e-04, 1.48155223e-04,\n",
       "       1.51391901e-04, 1.54041905e-04, 1.58632217e-04, 1.80470898e-04,\n",
       "       1.88757177e-04, 1.92061106e-04, 8.84537576e-04, 9.59731201e-04,\n",
       "       1.07630194e-03, 1.21886405e-03, 1.26915103e-03, 1.19797480e-02,\n",
       "       4.87388233e-01, 9.34480919e-01, 9.46795655e-01, 9.68940718e-01,\n",
       "       9.93072946e-01, 9.95585013e-01, 9.90000000e+01])"
      ]
     },
     "execution_count": 13,
     "metadata": {},
     "output_type": "execute_result"
    }
   ],
   "source": [
    "np.unique(train_df.y_pred_score.values)"
   ]
  },
  {
   "cell_type": "code",
   "execution_count": 21,
   "metadata": {},
   "outputs": [
    {
     "data": {
      "text/html": [
       "<div>\n",
       "<style scoped>\n",
       "    .dataframe tbody tr th:only-of-type {\n",
       "        vertical-align: middle;\n",
       "    }\n",
       "\n",
       "    .dataframe tbody tr th {\n",
       "        vertical-align: top;\n",
       "    }\n",
       "\n",
       "    .dataframe thead th {\n",
       "        text-align: right;\n",
       "    }\n",
       "</style>\n",
       "<table border=\"1\" class=\"dataframe\">\n",
       "  <thead>\n",
       "    <tr style=\"text-align: right;\">\n",
       "      <th></th>\n",
       "      <th>anomaly</th>\n",
       "      <th>line_id</th>\n",
       "      <th>timestamps</th>\n",
       "      <th>value</th>\n",
       "      <th>Hour_Minute</th>\n",
       "      <th>Date</th>\n",
       "      <th>y_pred</th>\n",
       "      <th>y_pred_score</th>\n",
       "    </tr>\n",
       "  </thead>\n",
       "  <tbody>\n",
       "    <tr>\n",
       "      <td>0</td>\n",
       "      <td>0</td>\n",
       "      <td>105_dnm_tmp_NlZyB#sum_iUserNum_300#20190623_16...</td>\n",
       "      <td>2019-06-08 00:00:00</td>\n",
       "      <td>901283.0</td>\n",
       "      <td>00:00:00</td>\n",
       "      <td>2019-06-08</td>\n",
       "      <td>99</td>\n",
       "      <td>99.0</td>\n",
       "    </tr>\n",
       "    <tr>\n",
       "      <td>1</td>\n",
       "      <td>0</td>\n",
       "      <td>105_dnm_tmp_NlZyB#sum_iUserNum_300#20190623_16...</td>\n",
       "      <td>2019-06-08 00:05:00</td>\n",
       "      <td>887988.0</td>\n",
       "      <td>00:05:00</td>\n",
       "      <td>2019-06-08</td>\n",
       "      <td>99</td>\n",
       "      <td>99.0</td>\n",
       "    </tr>\n",
       "    <tr>\n",
       "      <td>2</td>\n",
       "      <td>0</td>\n",
       "      <td>105_dnm_tmp_NlZyB#sum_iUserNum_300#20190623_16...</td>\n",
       "      <td>2019-06-08 00:10:00</td>\n",
       "      <td>873448.0</td>\n",
       "      <td>00:10:00</td>\n",
       "      <td>2019-06-08</td>\n",
       "      <td>99</td>\n",
       "      <td>99.0</td>\n",
       "    </tr>\n",
       "    <tr>\n",
       "      <td>3</td>\n",
       "      <td>0</td>\n",
       "      <td>105_dnm_tmp_NlZyB#sum_iUserNum_300#20190623_16...</td>\n",
       "      <td>2019-06-08 00:15:00</td>\n",
       "      <td>859882.0</td>\n",
       "      <td>00:15:00</td>\n",
       "      <td>2019-06-08</td>\n",
       "      <td>99</td>\n",
       "      <td>99.0</td>\n",
       "    </tr>\n",
       "    <tr>\n",
       "      <td>4</td>\n",
       "      <td>0</td>\n",
       "      <td>105_dnm_tmp_NlZyB#sum_iUserNum_300#20190623_16...</td>\n",
       "      <td>2019-06-08 00:20:00</td>\n",
       "      <td>846373.0</td>\n",
       "      <td>00:20:00</td>\n",
       "      <td>2019-06-08</td>\n",
       "      <td>99</td>\n",
       "      <td>99.0</td>\n",
       "    </tr>\n",
       "  </tbody>\n",
       "</table>\n",
       "</div>"
      ],
      "text/plain": [
       "   anomaly                                            line_id  \\\n",
       "0        0  105_dnm_tmp_NlZyB#sum_iUserNum_300#20190623_16...   \n",
       "1        0  105_dnm_tmp_NlZyB#sum_iUserNum_300#20190623_16...   \n",
       "2        0  105_dnm_tmp_NlZyB#sum_iUserNum_300#20190623_16...   \n",
       "3        0  105_dnm_tmp_NlZyB#sum_iUserNum_300#20190623_16...   \n",
       "4        0  105_dnm_tmp_NlZyB#sum_iUserNum_300#20190623_16...   \n",
       "\n",
       "            timestamps     value Hour_Minute        Date  y_pred  y_pred_score  \n",
       "0  2019-06-08 00:00:00  901283.0    00:00:00  2019-06-08      99          99.0  \n",
       "1  2019-06-08 00:05:00  887988.0    00:05:00  2019-06-08      99          99.0  \n",
       "2  2019-06-08 00:10:00  873448.0    00:10:00  2019-06-08      99          99.0  \n",
       "3  2019-06-08 00:15:00  859882.0    00:15:00  2019-06-08      99          99.0  \n",
       "4  2019-06-08 00:20:00  846373.0    00:20:00  2019-06-08      99          99.0  "
      ]
     },
     "execution_count": 21,
     "metadata": {},
     "output_type": "execute_result"
    }
   ],
   "source": [
    "train_df.head()"
   ]
  },
  {
   "cell_type": "code",
   "execution_count": 26,
   "metadata": {},
   "outputs": [
    {
     "name": "stderr",
     "output_type": "stream",
     "text": [
      "/Users/stellazhao/anaconda3/envs/py37/lib/python3.7/site-packages/sklearn/metrics/classification.py:1145: UndefinedMetricWarning: Recall and F-score are ill-defined and being set to 0.0 in labels with no true samples.\n",
      "  'recall', 'true', average, warn_for)\n"
     ]
    }
   ],
   "source": [
    "aa = classification_report(train_df.anomaly, train_df.y_pred)\n",
    "print(aa)\n",
    "aa = confusion_matrix(train_df.anomaly, train_df.y_pred)\n",
    "print(aa)"
   ]
  },
  {
   "cell_type": "code",
   "execution_count": 27,
   "metadata": {},
   "outputs": [
    {
     "name": "stdout",
     "output_type": "stream",
     "text": [
      "[[ 25540     83 136004]\n",
      " [   289      8   3046]\n",
      " [     0      0      0]]\n"
     ]
    }
   ],
   "source": [
    "print(aa)"
   ]
  },
  {
   "cell_type": "code",
   "execution_count": 28,
   "metadata": {},
   "outputs": [],
   "source": [
    "line_id = np.unique(train_df.line_id.values)"
   ]
  },
  {
   "cell_type": "code",
   "execution_count": 33,
   "metadata": {},
   "outputs": [],
   "source": [
    "df = train_df.copy()\n",
    "y_pred = []\n",
    "y_true = []\n",
    "for l in line_id:\n",
    "    df_sclie = df[df.line_id == l].copy()\n",
    "    y_true.extend(list(df_sclie.anomaly.values[-400:]))\n",
    "    y_pred.extend(list(df_sclie.y_pred.values[-400:]))\n",
    "\n"
   ]
  },
  {
   "cell_type": "code",
   "execution_count": 36,
   "metadata": {},
   "outputs": [
    {
     "name": "stdout",
     "output_type": "stream",
     "text": [
      "              precision    recall  f1-score   support\n",
      "\n",
      "           0       0.99      1.00      0.99     17769\n",
      "           1       0.09      0.03      0.05       231\n",
      "\n",
      "   micro avg       0.98      0.98      0.98     18000\n",
      "   macro avg       0.54      0.51      0.52     18000\n",
      "weighted avg       0.98      0.98      0.98     18000\n",
      "\n",
      "[[17686    83]\n",
      " [  223     8]]\n"
     ]
    }
   ],
   "source": [
    "aa = classification_report(y_true, y_pred)\n",
    "print(aa)\n",
    "aa = confusion_matrix(y_true, y_pred)\n",
    "print(aa)"
   ]
  },
  {
   "cell_type": "code",
   "execution_count": null,
   "metadata": {},
   "outputs": [],
   "source": []
  }
 ],
 "metadata": {
  "kernelspec": {
   "display_name": "Python 3",
   "language": "python",
   "name": "python3"
  },
  "language_info": {
   "codemirror_mode": {
    "name": "ipython",
    "version": 3
   },
   "file_extension": ".py",
   "mimetype": "text/x-python",
   "name": "python",
   "nbconvert_exporter": "python",
   "pygments_lexer": "ipython3",
   "version": "3.7.0"
  }
 },
 "nbformat": 4,
 "nbformat_minor": 2
}
